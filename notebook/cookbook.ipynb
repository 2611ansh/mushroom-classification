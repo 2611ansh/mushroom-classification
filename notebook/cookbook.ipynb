{
 "cells": [
  {
   "cell_type": "code",
   "execution_count": 11,
   "metadata": {},
   "outputs": [
    {
     "name": "stdout",
     "output_type": "stream",
     "text": [
      "The best model trained is: Random Forest\n",
      "Accuracy of the best model: 100.00%\n"
     ]
    }
   ],
   "source": [
    "import pandas as pd\n",
    "from sklearn.preprocessing import LabelEncoder\n",
    "from sklearn.model_selection import train_test_split\n",
    "from sklearn.ensemble import RandomForestClassifier\n",
    "from sklearn.svm import SVC\n",
    "from sklearn.neighbors import KNeighborsClassifier\n",
    "from sklearn.metrics import accuracy_score\n",
    "import pickle\n",
    "\n",
    "def load_data(file_path):\n",
    "    df = pd.read_csv(file_path)\n",
    "    return df\n",
    "\n",
    "def encode_categorical_columns(df):\n",
    "    categorical_columns = df.select_dtypes(include=['object']).columns\n",
    "    label_encoders = {}\n",
    "    \n",
    "    for column in categorical_columns:\n",
    "        le = LabelEncoder()\n",
    "        df[column] = le.fit_transform(df[column])\n",
    "        label_encoders[column] = le\n",
    "    \n",
    "    with open('preprocessor.pkl', 'wb') as f:\n",
    "        pickle.dump(label_encoders, f)\n",
    "    \n",
    "    return df\n",
    "\n",
    "def train_and_save_best_model(X_train, X_test, y_train, y_test):\n",
    "    models = [\n",
    "        ('Random Forest', RandomForestClassifier()),\n",
    "        ('SVM', SVC()),\n",
    "        ('K-Nearest Neighbors', KNeighborsClassifier())\n",
    "    ]\n",
    "    best_accuracy = 0.0\n",
    "    best_model = None\n",
    "    \n",
    "    for model_name, model in models:\n",
    "        model.fit(X_train, y_train)\n",
    "        preds = model.predict(X_test)\n",
    "        accuracy = accuracy_score(y_test, preds)\n",
    "        \n",
    "        if accuracy > best_accuracy:\n",
    "            best_accuracy = accuracy\n",
    "            best_model = model_name\n",
    "    \n",
    "    with open('model.pkl', 'wb') as f:\n",
    "        pickle.dump(best_model, f)\n",
    "    \n",
    "    return best_model, best_accuracy\n",
    "\n",
    "if __name__ == \"__main__\":\n",
    "    # Load dataset\n",
    "    dataset_path = '/workspaces/mushroom-classification/notebook/data/mushrooms.csv'\n",
    "    df = load_data(dataset_path)\n",
    "\n",
    "    # Encode all categorical columns and save label encoders\n",
    "    df_encoded = encode_categorical_columns(df)\n",
    "\n",
    "    # Specify target column\n",
    "    target_column = 'class'\n",
    "    \n",
    "    # Split data\n",
    "    X = df_encoded.drop(target_column, axis=1)\n",
    "    y = df_encoded[target_column]\n",
    "    X_train, X_test, y_train, y_test = train_test_split(X, y, test_size=0.2, random_state=42)\n",
    "\n",
    "    # Train models and save the best one\n",
    "    best_model_name, best_accuracy = train_and_save_best_model(X_train, X_test, y_train, y_test)\n",
    "    \n",
    "    print(f\"The best model trained is: {best_model_name}\")\n",
    "    print(f\"Accuracy of the best model: {best_accuracy:.2%}\")\n"
   ]
  }
 ],
 "metadata": {
  "kernelspec": {
   "display_name": "Python 3",
   "language": "python",
   "name": "python3"
  },
  "language_info": {
   "codemirror_mode": {
    "name": "ipython",
    "version": 3
   },
   "file_extension": ".py",
   "mimetype": "text/x-python",
   "name": "python",
   "nbconvert_exporter": "python",
   "pygments_lexer": "ipython3",
   "version": "3.10.8"
  }
 },
 "nbformat": 4,
 "nbformat_minor": 2
}
